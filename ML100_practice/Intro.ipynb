{
 "cells": [
  {
   "cell_type": "code",
   "execution_count": 8,
   "metadata": {},
   "outputs": [],
   "source": [
    "import numpy as np\n",
    "import pandas as pd\n",
    "import os\n",
    "import matplotlib.pyplot as plt"
   ]
  },
  {
   "cell_type": "markdown",
   "metadata": {},
   "source": [
    "## Day1"
   ]
  },
  {
   "cell_type": "markdown",
   "metadata": {},
   "source": [
    "## Regression hypothesis simulation"
   ]
  },
  {
   "cell_type": "code",
   "execution_count": 5,
   "metadata": {},
   "outputs": [
    {
     "data": {
      "image/png": "[encoded data removed]",
      "text/plain": [
       "<Figure size 432x288 with 1 Axes>"
      ]
     },
     "metadata": {
      "needs_background": "light"
     },
     "output_type": "display_data"
    }
   ],
   "source": [
    "#Ml basic hypothesis y = w^x + b\n",
    "w = 3\n",
    "b = 0.5\n",
    "#假設x\n",
    "x_lin = np.linspace(0,200,101)\n",
    "#給y一點隨機性\n",
    "y = (x_lin + np.random.randn(101)*5)*w + b\n",
    "y_hat = x_lin*w +b\n",
    "#繪圖\n",
    "plt.plot(x_lin,y,'g.',label = 'data points')     #設定繪圖以點狀圖(plot)作為畫圖方式，圖樣為綠色點狀(g.)，標題為label\n",
    "plt.plot(x_lin,y_hat,'r-',label = 'data points') #線狀圖以圖樣修改\n",
    "plt.title('data point')\n",
    "plt.legend(loc = 2)\n",
    "plt.show()"
   ]
  },
  {
   "cell_type": "markdown",
   "metadata": {},
   "source": [
    "## Mean Absolute/Square Error"
   ]
  },
  {
   "cell_type": "code",
   "execution_count": 6,
   "metadata": {},
   "outputs": [
    {
     "data": {
      "text/plain": [
       "11.725601567185834"
      ]
     },
     "execution_count": 6,
     "metadata": {},
     "output_type": "execute_result"
    }
   ],
   "source": [
    "def mean_absolute_error(y,yp):\n",
    "    mae = sum(abs(y-yp)) / len(y)\n",
    "    return mae\n",
    "MAE = mean_absolute_error(y,y_hat)\n",
    "MAE"
   ]
  },
  {
   "cell_type": "code",
   "execution_count": 7,
   "metadata": {},
   "outputs": [
    {
     "data": {
      "text/plain": [
       "230.3706512576806"
      ]
     },
     "execution_count": 7,
     "metadata": {},
     "output_type": "execute_result"
    }
   ],
   "source": [
    "def mean_square_error(y,yp):\n",
    "    mse = sum((y-yp)**2) / len(y)\n",
    "    return mse\n",
    "MSE = mean_square_error(y,y_hat)\n",
    "MSE"
   ]
  },
  {
   "cell_type": "markdown",
   "metadata": {},
   "source": [
    "## Day 4"
   ]
  },
  {
   "cell_type": "markdown",
   "metadata": {},
   "source": [
    "## Data loading"
   ]
  },
  {
   "cell_type": "code",
   "execution_count": 9,
   "metadata": {},
   "outputs": [
    {
     "data": {
      "text/html": [
       "<div>\n",
       "<style scoped>\n",
       "    .dataframe tbody tr th:only-of-type {\n",
       "        vertical-align: middle;\n",
       "    }\n",
       "\n",
       "    .dataframe tbody tr th {\n",
       "        vertical-align: top;\n",
       "    }\n",
       "\n",
       "    .dataframe thead th {\n",
       "        text-align: right;\n",
       "    }\n",
       "</style>\n",
       "<table border=\"1\" class=\"dataframe\">\n",
       "  <thead>\n",
       "    <tr style=\"text-align: right;\">\n",
       "      <th></th>\n",
       "      <th>SK_ID_CURR</th>\n",
       "      <th>TARGET</th>\n",
       "      <th>NAME_CONTRACT_TYPE</th>\n",
       "      <th>CODE_GENDER</th>\n",
       "      <th>FLAG_OWN_CAR</th>\n",
       "      <th>FLAG_OWN_REALTY</th>\n",
       "      <th>CNT_CHILDREN</th>\n",
       "      <th>AMT_INCOME_TOTAL</th>\n",
       "      <th>AMT_CREDIT</th>\n",
       "      <th>AMT_ANNUITY</th>\n",
       "      <th>...</th>\n",
       "      <th>FLAG_DOCUMENT_18</th>\n",
       "      <th>FLAG_DOCUMENT_19</th>\n",
       "      <th>FLAG_DOCUMENT_20</th>\n",
       "      <th>FLAG_DOCUMENT_21</th>\n",
       "      <th>AMT_REQ_CREDIT_BUREAU_HOUR</th>\n",
       "      <th>AMT_REQ_CREDIT_BUREAU_DAY</th>\n",
       "      <th>AMT_REQ_CREDIT_BUREAU_WEEK</th>\n",
       "      <th>AMT_REQ_CREDIT_BUREAU_MON</th>\n",
       "      <th>AMT_REQ_CREDIT_BUREAU_QRT</th>\n",
       "      <th>AMT_REQ_CREDIT_BUREAU_YEAR</th>\n",
       "    </tr>\n",
       "  </thead>\n",
       "  <tbody>\n",
       "    <tr>\n",
       "      <th>0</th>\n",
       "      <td>100002</td>\n",
       "      <td>1</td>\n",
       "      <td>Cash loans</td>\n",
       "      <td>M</td>\n",
       "      <td>N</td>\n",
       "      <td>Y</td>\n",
       "      <td>0</td>\n",
       "      <td>202500.0</td>\n",
       "      <td>406597.5</td>\n",
       "      <td>24700.5</td>\n",
       "      <td>...</td>\n",
       "      <td>0</td>\n",
       "      <td>0</td>\n",
       "      <td>0</td>\n",
       "      <td>0</td>\n",
       "      <td>0.0</td>\n",
       "      <td>0.0</td>\n",
       "      <td>0.0</td>\n",
       "      <td>0.0</td>\n",
       "      <td>0.0</td>\n",
       "      <td>1.0</td>\n",
       "    </tr>\n",
       "    <tr>\n",
       "      <th>1</th>\n",
       "      <td>100003</td>\n",
       "      <td>0</td>\n",
       "      <td>Cash loans</td>\n",
       "      <td>F</td>\n",
       "      <td>N</td>\n",
       "      <td>N</td>\n",
       "      <td>0</td>\n",
       "      <td>270000.0</td>\n",
       "      <td>1293502.5</td>\n",
       "      <td>35698.5</td>\n",
       "      <td>...</td>\n",
       "      <td>0</td>\n",
       "      <td>0</td>\n",
       "      <td>0</td>\n",
       "      <td>0</td>\n",
       "      <td>0.0</td>\n",
       "      <td>0.0</td>\n",
       "      <td>0.0</td>\n",
       "      <td>0.0</td>\n",
       "      <td>0.0</td>\n",
       "      <td>0.0</td>\n",
       "    </tr>\n",
       "    <tr>\n",
       "      <th>2</th>\n",
       "      <td>100004</td>\n",
       "      <td>0</td>\n",
       "      <td>Revolving loans</td>\n",
       "      <td>M</td>\n",
       "      <td>Y</td>\n",
       "      <td>Y</td>\n",
       "      <td>0</td>\n",
       "      <td>67500.0</td>\n",
       "      <td>135000.0</td>\n",
       "      <td>6750.0</td>\n",
       "      <td>...</td>\n",
       "      <td>0</td>\n",
       "      <td>0</td>\n",
       "      <td>0</td>\n",
       "      <td>0</td>\n",
       "      <td>0.0</td>\n",
       "      <td>0.0</td>\n",
       "      <td>0.0</td>\n",
       "      <td>0.0</td>\n",
       "      <td>0.0</td>\n",
       "      <td>0.0</td>\n",
       "    </tr>\n",
       "    <tr>\n",
       "      <th>3</th>\n",
       "      <td>100006</td>\n",
       "      <td>0</td>\n",
       "      <td>Cash loans</td>\n",
       "      <td>F</td>\n",
       "      <td>N</td>\n",
       "      <td>Y</td>\n",
       "      <td>0</td>\n",
       "      <td>135000.0</td>\n",
       "      <td>312682.5</td>\n",
       "      <td>29686.5</td>\n",
       "      <td>...</td>\n",
       "      <td>0</td>\n",
       "      <td>0</td>\n",
       "      <td>0</td>\n",
       "      <td>0</td>\n",
       "      <td>NaN</td>\n",
       "      <td>NaN</td>\n",
       "      <td>NaN</td>\n",
       "      <td>NaN</td>\n",
       "      <td>NaN</td>\n",
       "      <td>NaN</td>\n",
       "    </tr>\n",
       "    <tr>\n",
       "      <th>4</th>\n",
       "      <td>100007</td>\n",
       "      <td>0</td>\n",
       "      <td>Cash loans</td>\n",
       "      <td>M</td>\n",
       "      <td>N</td>\n",
       "      <td>Y</td>\n",
       "      <td>0</td>\n",
       "      <td>121500.0</td>\n",
       "      <td>513000.0</td>\n",
       "      <td>21865.5</td>\n",
       "      <td>...</td>\n",
       "      <td>0</td>\n",
       "      <td>0</td>\n",
       "      <td>0</td>\n",
       "      <td>0</td>\n",
       "      <td>0.0</td>\n",
       "      <td>0.0</td>\n",
       "      <td>0.0</td>\n",
       "      <td>0.0</td>\n",
       "      <td>0.0</td>\n",
       "      <td>0.0</td>\n",
       "    </tr>\n",
       "  </tbody>\n",
       "</table>\n",
       "<p>5 rows × 122 columns</p>\n",
       "</div>"
      ],
      "text/plain": [
       "   SK_ID_CURR  TARGET NAME_CONTRACT_TYPE CODE_GENDER FLAG_OWN_CAR  \\\n",
       "0      100002       1         Cash loans           M            N   \n",
       "1      100003       0         Cash loans           F            N   \n",
       "2      100004       0    Revolving loans           M            Y   \n",
       "3      100006       0         Cash loans           F            N   \n",
       "4      100007       0         Cash loans           M            N   \n",
       "\n",
       "  FLAG_OWN_REALTY  CNT_CHILDREN  AMT_INCOME_TOTAL  AMT_CREDIT  AMT_ANNUITY  \\\n",
       "0               Y             0          202500.0    406597.5      24700.5   \n",
       "1               N             0          270000.0   1293502.5      35698.5   \n",
       "2               Y             0           67500.0    135000.0       6750.0   \n",
       "3               Y             0          135000.0    312682.5      29686.5   \n",
       "4               Y             0          121500.0    513000.0      21865.5   \n",
       "\n",
       "   ...  FLAG_DOCUMENT_18 FLAG_DOCUMENT_19 FLAG_DOCUMENT_20 FLAG_DOCUMENT_21  \\\n",
       "0  ...                 0                0                0                0   \n",
       "1  ...                 0                0                0                0   \n",
       "2  ...                 0                0                0                0   \n",
       "3  ...                 0                0                0                0   \n",
       "4  ...                 0                0                0                0   \n",
       "\n",
       "  AMT_REQ_CREDIT_BUREAU_HOUR AMT_REQ_CREDIT_BUREAU_DAY  \\\n",
       "0                        0.0                       0.0   \n",
       "1                        0.0                       0.0   \n",
       "2                        0.0                       0.0   \n",
       "3                        NaN                       NaN   \n",
       "4                        0.0                       0.0   \n",
       "\n",
       "   AMT_REQ_CREDIT_BUREAU_WEEK  AMT_REQ_CREDIT_BUREAU_MON  \\\n",
       "0                         0.0                        0.0   \n",
       "1                         0.0                        0.0   \n",
       "2                         0.0                        0.0   \n",
       "3                         NaN                        NaN   \n",
       "4                         0.0                        0.0   \n",
       "\n",
       "   AMT_REQ_CREDIT_BUREAU_QRT  AMT_REQ_CREDIT_BUREAU_YEAR  \n",
       "0                        0.0                         1.0  \n",
       "1                        0.0                         0.0  \n",
       "2                        0.0                         0.0  \n",
       "3                        NaN                         NaN  \n",
       "4                        0.0                         0.0  \n",
       "\n",
       "[5 rows x 122 columns]"
      ]
     },
     "execution_count": 9,
     "metadata": {},
     "output_type": "execute_result"
    }
   ],
   "source": [
    "path = './data/'\n",
    "file = os.path.join(path,'application_train.csv')\n",
    "app_train = pd.read_csv(file)\n",
    "app_train.head()"
   ]
  },
  {
   "cell_type": "code",
   "execution_count": 11,
   "metadata": {},
   "outputs": [
    {
     "data": {
      "text/plain": [
       "(307511, 122)"
      ]
     },
     "execution_count": 11,
     "metadata": {},
     "output_type": "execute_result"
    }
   ],
   "source": [
    "app_train.shape"
   ]
  },
  {
   "cell_type": "code",
   "execution_count": 12,
   "metadata": {},
   "outputs": [
    {
     "name": "stdout",
     "output_type": "stream",
     "text": [
      "SK_ID_CURR\n",
      "TARGET\n",
      "NAME_CONTRACT_TYPE\n",
      "CODE_GENDER\n",
      "FLAG_OWN_CAR\n",
      "FLAG_OWN_REALTY\n",
      "CNT_CHILDREN\n",
      "AMT_INCOME_TOTAL\n",
      "AMT_CREDIT\n",
      "AMT_ANNUITY\n",
      "AMT_GOODS_PRICE\n",
      "NAME_TYPE_SUITE\n",
      "NAME_INCOME_TYPE\n",
      "NAME_EDUCATION_TYPE\n",
      "NAME_FAMILY_STATUS\n",
      "NAME_HOUSING_TYPE\n",
      "REGION_POPULATION_RELATIVE\n",
      "DAYS_BIRTH\n",
      "DAYS_EMPLOYED\n",
      "DAYS_REGISTRATION\n",
      "DAYS_ID_PUBLISH\n",
      "OWN_CAR_AGE\n",
      "FLAG_MOBIL\n",
      "FLAG_EMP_PHONE\n",
      "FLAG_WORK_PHONE\n",
      "FLAG_CONT_MOBILE\n",
      "FLAG_PHONE\n",
      "FLAG_EMAIL\n",
      "OCCUPATION_TYPE\n",
      "CNT_FAM_MEMBERS\n",
      "REGION_RATING_CLIENT\n",
      "REGION_RATING_CLIENT_W_CITY\n",
      "WEEKDAY_APPR_PROCESS_START\n",
      "HOUR_APPR_PROCESS_START\n",
      "REG_REGION_NOT_LIVE_REGION\n",
      "REG_REGION_NOT_WORK_REGION\n",
      "LIVE_REGION_NOT_WORK_REGION\n",
      "REG_CITY_NOT_LIVE_CITY\n",
      "REG_CITY_NOT_WORK_CITY\n",
      "LIVE_CITY_NOT_WORK_CITY\n",
      "ORGANIZATION_TYPE\n",
      "EXT_SOURCE_1\n",
      "EXT_SOURCE_2\n",
      "EXT_SOURCE_3\n",
      "APARTMENTS_AVG\n",
      "BASEMENTAREA_AVG\n",
      "YEARS_BEGINEXPLUATATION_AVG\n",
      "YEARS_BUILD_AVG\n",
      "COMMONAREA_AVG\n",
      "ELEVATORS_AVG\n",
      "ENTRANCES_AVG\n",
      "FLOORSMAX_AVG\n",
      "FLOORSMIN_AVG\n",
      "LANDAREA_AVG\n",
      "LIVINGAPARTMENTS_AVG\n",
      "LIVINGAREA_AVG\n",
      "NONLIVINGAPARTMENTS_AVG\n",
      "NONLIVINGAREA_AVG\n",
      "APARTMENTS_MODE\n",
      "BASEMENTAREA_MODE\n",
      "YEARS_BEGINEXPLUATATION_MODE\n",
      "YEARS_BUILD_MODE\n",
      "COMMONAREA_MODE\n",
      "ELEVATORS_MODE\n",
      "ENTRANCES_MODE\n",
      "FLOORSMAX_MODE\n",
      "FLOORSMIN_MODE\n",
      "LANDAREA_MODE\n",
      "LIVINGAPARTMENTS_MODE\n",
      "LIVINGAREA_MODE\n",
      "NONLIVINGAPARTMENTS_MODE\n",
      "NONLIVINGAREA_MODE\n",
      "APARTMENTS_MEDI\n",
      "BASEMENTAREA_MEDI\n",
      "YEARS_BEGINEXPLUATATION_MEDI\n",
      "YEARS_BUILD_MEDI\n",
      "COMMONAREA_MEDI\n",
      "ELEVATORS_MEDI\n",
      "ENTRANCES_MEDI\n",
      "FLOORSMAX_MEDI\n",
      "FLOORSMIN_MEDI\n",
      "LANDAREA_MEDI\n",
      "LIVINGAPARTMENTS_MEDI\n",
      "LIVINGAREA_MEDI\n",
      "NONLIVINGAPARTMENTS_MEDI\n",
      "NONLIVINGAREA_MEDI\n",
      "FONDKAPREMONT_MODE\n",
      "HOUSETYPE_MODE\n",
      "TOTALAREA_MODE\n",
      "WALLSMATERIAL_MODE\n",
      "EMERGENCYSTATE_MODE\n",
      "OBS_30_CNT_SOCIAL_CIRCLE\n",
      "DEF_30_CNT_SOCIAL_CIRCLE\n",
      "OBS_60_CNT_SOCIAL_CIRCLE\n",
      "DEF_60_CNT_SOCIAL_CIRCLE\n",
      "DAYS_LAST_PHONE_CHANGE\n",
      "FLAG_DOCUMENT_2\n",
      "FLAG_DOCUMENT_3\n",
      "FLAG_DOCUMENT_4\n",
      "FLAG_DOCUMENT_5\n",
      "FLAG_DOCUMENT_6\n",
      "FLAG_DOCUMENT_7\n",
      "FLAG_DOCUMENT_8\n",
      "FLAG_DOCUMENT_9\n",
      "FLAG_DOCUMENT_10\n",
      "FLAG_DOCUMENT_11\n",
      "FLAG_DOCUMENT_12\n",
      "FLAG_DOCUMENT_13\n",
      "FLAG_DOCUMENT_14\n",
      "FLAG_DOCUMENT_15\n",
      "FLAG_DOCUMENT_16\n",
      "FLAG_DOCUMENT_17\n",
      "FLAG_DOCUMENT_18\n",
      "FLAG_DOCUMENT_19\n",
      "FLAG_DOCUMENT_20\n",
      "FLAG_DOCUMENT_21\n",
      "AMT_REQ_CREDIT_BUREAU_HOUR\n",
      "AMT_REQ_CREDIT_BUREAU_DAY\n",
      "AMT_REQ_CREDIT_BUREAU_WEEK\n",
      "AMT_REQ_CREDIT_BUREAU_MON\n",
      "AMT_REQ_CREDIT_BUREAU_QRT\n",
      "AMT_REQ_CREDIT_BUREAU_YEAR\n"
     ]
    }
   ],
   "source": [
    "for i in app_train.columns:\n",
    "    print(i)"
   ]
  },
  {
   "cell_type": "markdown",
   "metadata": {},
   "source": [
    "## Day 5"
   ]
  },
  {
   "cell_type": "markdown",
   "metadata": {},
   "source": [
    "## Pandas DataFrame"
   ]
  },
  {
   "cell_type": "code",
   "execution_count": 14,
   "metadata": {},
   "outputs": [
    {
     "data": {
      "text/html": [
       "<div>\n",
       "<style scoped>\n",
       "    .dataframe tbody tr th:only-of-type {\n",
       "        vertical-align: middle;\n",
       "    }\n",
       "\n",
       "    .dataframe tbody tr th {\n",
       "        vertical-align: top;\n",
       "    }\n",
       "\n",
       "    .dataframe thead th {\n",
       "        text-align: right;\n",
       "    }\n",
       "</style>\n",
       "<table border=\"1\" class=\"dataframe\">\n",
       "  <thead>\n",
       "    <tr style=\"text-align: right;\">\n",
       "      <th></th>\n",
       "      <th>weekday</th>\n",
       "      <th>city</th>\n",
       "      <th>visitor</th>\n",
       "    </tr>\n",
       "  </thead>\n",
       "  <tbody>\n",
       "    <tr>\n",
       "      <th>0</th>\n",
       "      <td>Sun</td>\n",
       "      <td>Austin</td>\n",
       "      <td>139</td>\n",
       "    </tr>\n",
       "    <tr>\n",
       "      <th>1</th>\n",
       "      <td>Sun</td>\n",
       "      <td>Dallas</td>\n",
       "      <td>237</td>\n",
       "    </tr>\n",
       "    <tr>\n",
       "      <th>2</th>\n",
       "      <td>Mon</td>\n",
       "      <td>Austin</td>\n",
       "      <td>326</td>\n",
       "    </tr>\n",
       "    <tr>\n",
       "      <th>3</th>\n",
       "      <td>Mon</td>\n",
       "      <td>Dallas</td>\n",
       "      <td>456</td>\n",
       "    </tr>\n",
       "  </tbody>\n",
       "</table>\n",
       "</div>"
      ],
      "text/plain": [
       "  weekday    city  visitor\n",
       "0     Sun  Austin      139\n",
       "1     Sun  Dallas      237\n",
       "2     Mon  Austin      326\n",
       "3     Mon  Dallas      456"
      ]
     },
     "execution_count": 14,
     "metadata": {},
     "output_type": "execute_result"
    }
   ],
   "source": [
    "#用字典建立\n",
    "data = {'weekday': ['Sun', 'Sun', 'Mon', 'Mon'],\n",
    "        'city': ['Austin', 'Dallas', 'Austin', 'Dallas'],\n",
    "        'visitor': [139, 237, 326, 456]}\n",
    "vis_1 = pd.DataFrame(data)\n",
    "vis_1.head()"
   ]
  },
  {
   "cell_type": "code",
   "execution_count": 16,
   "metadata": {},
   "outputs": [
    {
     "data": {
      "text/html": [
       "<div>\n",
       "<style scoped>\n",
       "    .dataframe tbody tr th:only-of-type {\n",
       "        vertical-align: middle;\n",
       "    }\n",
       "\n",
       "    .dataframe tbody tr th {\n",
       "        vertical-align: top;\n",
       "    }\n",
       "\n",
       "    .dataframe thead th {\n",
       "        text-align: right;\n",
       "    }\n",
       "</style>\n",
       "<table border=\"1\" class=\"dataframe\">\n",
       "  <thead>\n",
       "    <tr style=\"text-align: right;\">\n",
       "      <th></th>\n",
       "      <th>city</th>\n",
       "      <th>weekday</th>\n",
       "      <th>visitor</th>\n",
       "    </tr>\n",
       "  </thead>\n",
       "  <tbody>\n",
       "    <tr>\n",
       "      <th>0</th>\n",
       "      <td>Austin</td>\n",
       "      <td>Sun</td>\n",
       "      <td>139</td>\n",
       "    </tr>\n",
       "    <tr>\n",
       "      <th>1</th>\n",
       "      <td>Dallas</td>\n",
       "      <td>Sun</td>\n",
       "      <td>237</td>\n",
       "    </tr>\n",
       "    <tr>\n",
       "      <th>2</th>\n",
       "      <td>Austin</td>\n",
       "      <td>Mon</td>\n",
       "      <td>326</td>\n",
       "    </tr>\n",
       "    <tr>\n",
       "      <th>3</th>\n",
       "      <td>Dallas</td>\n",
       "      <td>Mon</td>\n",
       "      <td>456</td>\n",
       "    </tr>\n",
       "  </tbody>\n",
       "</table>\n",
       "</div>"
      ],
      "text/plain": [
       "     city weekday  visitor\n",
       "0  Austin     Sun      139\n",
       "1  Dallas     Sun      237\n",
       "2  Austin     Mon      326\n",
       "3  Dallas     Mon      456"
      ]
     },
     "execution_count": 16,
     "metadata": {},
     "output_type": "execute_result"
    }
   ],
   "source": [
    "#用字串建立\n",
    "cities = ['Austin', 'Dallas', 'Austin', 'Dallas']\n",
    "weekdays = ['Sun', 'Sun', 'Mon', 'Mon']\n",
    "visitors = [139, 237, 326, 456]\n",
    "\n",
    "list_labels = ['city', 'weekday', 'visitor']\n",
    "list_cols = [cities, weekdays, visitors]\n",
    "\n",
    "zipped = list(zip(list_labels, list_cols))\n",
    "vis_2 = pd.DataFrame(dict(zipped))\n",
    "vis_2.head()"
   ]
  },
  {
   "cell_type": "code",
   "execution_count": 18,
   "metadata": {},
   "outputs": [
    {
     "data": {
      "text/plain": [
       "weekday\n",
       "Mon    391\n",
       "Sun    188\n",
       "Name: visitor, dtype: int64"
      ]
     },
     "execution_count": 18,
     "metadata": {},
     "output_type": "execute_result"
    }
   ],
   "source": [
    "vis_1.groupby(by=\"weekday\")['visitor'].mean()"
   ]
  },
  {
   "cell_type": "code",
   "execution_count": 19,
   "metadata": {},
   "outputs": [
    {
     "data": {
      "text/plain": [
       "weekday\n",
       "Mon    782\n",
       "Sun    376\n",
       "Name: visitor, dtype: int64"
      ]
     },
     "execution_count": 19,
     "metadata": {},
     "output_type": "execute_result"
    }
   ],
   "source": [
    "vis_1.groupby(by=\"weekday\")['visitor'].sum()"
   ]
  },
  {
   "cell_type": "code",
   "execution_count": 20,
   "metadata": {},
   "outputs": [
    {
     "data": {
      "text/plain": [
       "weekday\n",
       "Mon    91.923882\n",
       "Sun    69.296465\n",
       "Name: visitor, dtype: float64"
      ]
     },
     "execution_count": 20,
     "metadata": {},
     "output_type": "execute_result"
    }
   ],
   "source": [
    "vis_1.groupby(by=\"weekday\")['visitor'].std()"
   ]
  },
  {
   "cell_type": "markdown",
   "metadata": {},
   "source": [
    "## Pandas Data Loading"
   ]
  },
  {
   "cell_type": "code",
   "execution_count": null,
   "metadata": {},
   "outputs": [],
   "source": []
  }
 ],
 "metadata": {
  "kernelspec": {
   "display_name": "Python 3",
   "language": "python",
   "name": "python3"
  },
  "language_info": {
   "codemirror_mode": {
    "name": "ipython",
    "version": 3
   },
   "file_extension": ".py",
   "mimetype": "text/x-python",
   "name": "python",
   "nbconvert_exporter": "python",
   "pygments_lexer": "ipython3",
   "version": "3.7.7"
  }
 },
 "nbformat": 4,
 "nbformat_minor": 4
}
