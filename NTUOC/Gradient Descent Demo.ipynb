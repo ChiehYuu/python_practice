{
 "cells": [
  {
   "cell_type": "code",
   "execution_count": 7,
   "metadata": {},
   "outputs": [],
   "source": [
    "import numpy as np\n",
    "from random import random\n",
    "import matplotlib.pyplot as plt"
   ]
  },
  {
   "cell_type": "code",
   "execution_count": 8,
   "metadata": {},
   "outputs": [],
   "source": [
    "x_data = [338., 333., 328., 207., 226., 25., 179., 60., 208., 606.]\n",
    "y_data = [640., 633., 619., 393., 428., 27., 193., 66., 226., 1591.]\n",
    "\n",
    "#y_data = b + w * x_data"
   ]
  },
  {
   "cell_type": "code",
   "execution_count": 9,
   "metadata": {},
   "outputs": [
    {
     "data": {
      "text/plain": [
       "array([[5192293.4       , 5188421.2       , 5184551.        , ...,\n",
       "        4826002.        , 4822323.8       , 4818647.6       ],\n",
       "       [5058614.888     , 5054792.888     , 5050972.888     , ...,\n",
       "        4697192.888     , 4693564.888     , 4689938.888     ],\n",
       "       [4926683.192     , 4922911.392     , 4919141.592     , ...,\n",
       "        4570130.592     , 4566552.792     , 4562976.992     ],\n",
       "       ...,\n",
       "       [ 358653.03199999,  359650.23199999,  360649.43199999, ...,\n",
       "         464693.43199999,  465884.63199999,  467077.83199999],\n",
       "       [ 394415.67199999,  395463.07199999,  396512.47199999, ...,\n",
       "         505325.47199999,  506566.87199999,  507810.27199999],\n",
       "       [ 431925.12799999,  433022.72799999,  434122.32799999, ...,\n",
       "         547704.32799998,  548995.92799998,  550289.52799998]])"
      ]
     },
     "execution_count": 9,
     "metadata": {},
     "output_type": "execute_result"
    }
   ],
   "source": [
    "x = np.arange(-200,-100,1) #bias\n",
    "y = np.arange(-5,5,0.1) #weight\n",
    "Z = np.zeros((len(x), len(y)))\n",
    "X ,Y = np.meshgrid(x,y)\n",
    "for i in range(len(x)):\n",
    "    for j in range(len(y)):\n",
    "        b = x[i]\n",
    "        w = y[j]\n",
    "        Z[j][i] = 0\n",
    "        for n in range(len(x_data)):\n",
    "            Z[j][i] = Z[j][i] + (y_data[n] - b - w*x_data[n])**2\n",
    "        Z[j][i] = Z[j][i]/len(x_data)\n",
    "Z"
   ]
  },
  {
   "cell_type": "code",
   "execution_count": 21,
   "metadata": {},
   "outputs": [],
   "source": [
    "# y_data = b + w*x_data\n",
    "b = -120 #initial b\n",
    "w = -4 #initial w\n",
    "lr = 0.0001 #learning rate\n",
    "iteration = 1000\n",
    "\n",
    "#store initial values for plotting\n",
    "b_history = [b]\n",
    "w_history = [w]\n",
    "\n",
    "#iterations \n",
    "for i in range(iteration):\n",
    "    \n",
    "    b_grad = 0.0\n",
    "    w_grad = 0.0\n",
    "    for n in range(len(x_data)):\n",
    "        b_grad = b_grad -2.0 * (y_data[n] - b - w * x_data[n])*1.0\n",
    "        w_grad = w_grad -2.0 * (y_data[n] - b - w * x_data[n])*x_data[n]\n",
    "    \n",
    "    #update parameters\n",
    "    b = b - lr*b_grad\n",
    "    w = w - lr*w_grad\n",
    "    \n",
    "    #store parameters for plotting \n",
    "    b_history.append(b)\n",
    "    w_history.append(w)"
   ]
  },
  {
   "cell_type": "code",
   "execution_count": 22,
   "metadata": {},
   "outputs": [
    {
     "name": "stderr",
     "output_type": "stream",
     "text": [
      "C:\\ProgramData\\Anaconda3\\lib\\site-packages\\ipykernel_launcher.py:5: UserWarning: Attempting to set identical left == right == -200 results in singular transformations; automatically expanding.\n",
      "  \"\"\"\n"
     ]
    },
    {
     "data": {
      "image/png": "[encoded data removed]",
      "text/plain": [
       "<Figure size 432x288 with 1 Axes>"
      ]
     },
     "metadata": {
      "needs_background": "light"
     },
     "output_type": "display_data"
    }
   ],
   "source": [
    "#plot the figure\n",
    "plt.contourf(x,y,Z,50,alpha = 0.5,cmap=plt.get_cmap('jet'))\n",
    "plt.plot([-188.4],[2.67],'x',ms=12,markeredgewidth=3,color='orange')\n",
    "plt.plot(b_history,w_history,'o-',ms=3,lw=1.5,color='black')\n",
    "plt.xlim(-200,-200)\n",
    "plt.ylim(-5,5)\n",
    "plt.xlabel(r'$b$',fontsize=16)\n",
    "plt.ylabel(r'$w$',fontsize=16)\n",
    "plt.show()"
   ]
  },
  {
   "cell_type": "code",
   "execution_count": null,
   "metadata": {},
   "outputs": [],
   "source": []
  }
 ],
 "metadata": {
  "kernelspec": {
   "display_name": "Python 3",
   "language": "python",
   "name": "python3"
  },
  "language_info": {
   "codemirror_mode": {
    "name": "ipython",
    "version": 3
   },
   "file_extension": ".py",
   "mimetype": "text/x-python",
   "name": "python",
   "nbconvert_exporter": "python",
   "pygments_lexer": "ipython3",
   "version": "3.7.7"
  }
 },
 "nbformat": 4,
 "nbformat_minor": 4
}
