{
 "cells": [
  {
   "cell_type": "code",
   "execution_count": 21,
   "metadata": {},
   "outputs": [],
   "source": [
    "import numpy as np\n",
    "from keras.models import Sequential\n",
    "from keras.layers.core import Dense, Dropout, Activation\n",
    "from keras.layers import Conv2D, MaxPooling2D, Flatten\n",
    "from keras.optimizers import SGD, Adam\n",
    "from keras.utils import np_utils\n",
    "from keras.datasets import mnist"
   ]
  },
  {
   "cell_type": "code",
   "execution_count": 22,
   "metadata": {},
   "outputs": [],
   "source": [
    "def load_data():\n",
    "    \n",
    "    (x_train, y_train),(x_test, y_test) = mnist.load_data()\n",
    "    \n",
    "    number = 10000\n",
    "    x_train = x_train[0:number]\n",
    "    y_train = y_train[0:number]\n",
    "    x_train = x_train.reshape(number, 28*28)\n",
    "    x_test = x_test.reshape(x_test.shape[0], 28*28)\n",
    "    x_train = x_train.astype('float32')\n",
    "    x_test = x_test.astype('float32')\n",
    "    \n",
    "    #convert class vectors to binary class matrices\n",
    "    \n",
    "    y_train = np_utils.to_categorical(y_train, 10)\n",
    "    y_test = np_utils.to_categorical(y_test, 10)\n",
    "    x_train = x_train\n",
    "    x_test = x_test\n",
    "    \n",
    "    #x_test = np.random.normal(x_test) \n",
    "    #<--Testing Data加上noise影響結果，有noise影響的話需要dropout用於簡化過程，另外overfitting也需要\n",
    "    \n",
    "    #圖形像素正規化(將向素化為256bit)\n",
    "    x_train = x_train / 255\n",
    "    x_test = x_test / 255\n",
    "    \n",
    "    return(x_train, y_train),(x_test, y_test)"
   ]
  },
  {
   "cell_type": "code",
   "execution_count": 23,
   "metadata": {},
   "outputs": [],
   "source": [
    "(x_train, y_train),(x_test, y_test) = load_data()"
   ]
  },
  {
   "cell_type": "code",
   "execution_count": 24,
   "metadata": {},
   "outputs": [
    {
     "data": {
      "text/plain": [
       "(10000, 784)"
      ]
     },
     "execution_count": 24,
     "metadata": {},
     "output_type": "execute_result"
    }
   ],
   "source": [
    "x_train.shape"
   ]
  },
  {
   "cell_type": "code",
   "execution_count": 25,
   "metadata": {},
   "outputs": [
    {
     "data": {
      "text/plain": [
       "(10000, 10)"
      ]
     },
     "execution_count": 25,
     "metadata": {},
     "output_type": "execute_result"
    }
   ],
   "source": [
    "y_train.shape"
   ]
  },
  {
   "cell_type": "code",
   "execution_count": 26,
   "metadata": {},
   "outputs": [
    {
     "name": "stdout",
     "output_type": "stream",
     "text": [
      "Epoch 1/20\n",
      "10000/10000 [==============================] - 4s 359us/step - loss: 0.0911 - accuracy: 0.0995\n",
      "Epoch 2/20\n",
      "10000/10000 [==============================] - 3s 347us/step - loss: 0.0900 - accuracy: 0.1084\n",
      "Epoch 3/20\n",
      "10000/10000 [==============================] - 4s 362us/step - loss: 0.0900 - accuracy: 0.1118\n",
      "Epoch 4/20\n",
      "10000/10000 [==============================] - 3s 341us/step - loss: 0.0900 - accuracy: 0.1106\n",
      "Epoch 5/20\n",
      "10000/10000 [==============================] - 3s 343us/step - loss: 0.0900 - accuracy: 0.1109\n",
      "Epoch 6/20\n",
      "10000/10000 [==============================] - 4s 352us/step - loss: 0.0900 - accuracy: 0.1124\n",
      "Epoch 7/20\n",
      "10000/10000 [==============================] - 3s 346us/step - loss: 0.0900 - accuracy: 0.1096\n",
      "Epoch 8/20\n",
      "10000/10000 [==============================] - 3s 342us/step - loss: 0.0900 - accuracy: 0.1094\n",
      "Epoch 9/20\n",
      "10000/10000 [==============================] - 4s 355us/step - loss: 0.0900 - accuracy: 0.1119\n",
      "Epoch 10/20\n",
      "10000/10000 [==============================] - 4s 376us/step - loss: 0.0900 - accuracy: 0.1109\n",
      "Epoch 11/20\n",
      "10000/10000 [==============================] - 4s 383us/step - loss: 0.0900 - accuracy: 0.1142\n",
      "Epoch 12/20\n",
      "10000/10000 [==============================] - 4s 390us/step - loss: 0.0900 - accuracy: 0.1067\n",
      "Epoch 13/20\n",
      "10000/10000 [==============================] - 4s 385us/step - loss: 0.0900 - accuracy: 0.1115\n",
      "Epoch 14/20\n",
      "10000/10000 [==============================] - 4s 376us/step - loss: 0.0900 - accuracy: 0.1107\n",
      "Epoch 15/20\n",
      "10000/10000 [==============================] - 4s 378us/step - loss: 0.0900 - accuracy: 0.1087\n",
      "Epoch 16/20\n",
      "10000/10000 [==============================] - 4s 373us/step - loss: 0.0900 - accuracy: 0.1116\n",
      "Epoch 17/20\n",
      "10000/10000 [==============================] - 4s 373us/step - loss: 0.0900 - accuracy: 0.1116\n",
      "Epoch 18/20\n",
      "10000/10000 [==============================] - 4s 368us/step - loss: 0.0900 - accuracy: 0.1110\n",
      "Epoch 19/20\n",
      "10000/10000 [==============================] - 4s 366us/step - loss: 0.0900 - accuracy: 0.1086\n",
      "Epoch 20/20\n",
      "10000/10000 [==============================] - 4s 369us/step - loss: 0.0900 - accuracy: 0.1116\n",
      "10000/10000 [==============================] - 1s 114us/step\n",
      "\n",
      "Test Acc 0.11349999904632568\n"
     ]
    }
   ],
   "source": [
    "#Start ML model Emulator \n",
    "model = Sequential()\n",
    "\n",
    "#Setting Gradient Descent and Neural Network\n",
    "#first setting input dimension\n",
    "model.add(Dense(input_dim = 28*28, units = 650, activation='sigmoid'))\n",
    "\n",
    "#Setting Neural Network layers\n",
    "#use loop to add 10 layers\n",
    "for i in range(10):\n",
    "    model.add(Dense(units = 650, activation='sigmoid'))\n",
    "\n",
    "#Setting Output dimension\n",
    "model.add(Dense(units = 10, activation='softmax'))\n",
    "\n",
    "#setting compiler (loss function , optimizers ...)\n",
    "model.compile(loss='mse', optimizer=SGD(lr=0.1),metrics=['accuracy'])\n",
    "\n",
    "#training\n",
    "model.fit(x_train,y_train,batch_size = 100,epochs = 20)\n",
    "\n",
    "#testing\n",
    "result = model.evaluate(x_test, y_test)\n",
    "print('\\nTest Acc',result[1])"
   ]
  },
  {
   "cell_type": "code",
   "execution_count": 27,
   "metadata": {},
   "outputs": [
    {
     "name": "stdout",
     "output_type": "stream",
     "text": [
      "Epoch 1/20\n",
      "10000/10000 [==============================] - 4s 378us/step - loss: 0.0902 - accuracy: 0.1016\n",
      "Epoch 2/20\n",
      "10000/10000 [==============================] - 4s 372us/step - loss: 0.0900 - accuracy: 0.1106\n",
      "Epoch 3/20\n",
      "10000/10000 [==============================] - 4s 377us/step - loss: 0.0900 - accuracy: 0.1091\n",
      "Epoch 4/20\n",
      "10000/10000 [==============================] - 4s 382us/step - loss: 0.0900 - accuracy: 0.1102\n",
      "Epoch 5/20\n",
      "10000/10000 [==============================] - 4s 377us/step - loss: 0.0900 - accuracy: 0.1084\n",
      "Epoch 6/20\n",
      "10000/10000 [==============================] - 4s 382us/step - loss: 0.0900 - accuracy: 0.1116\n",
      "Epoch 7/20\n",
      "10000/10000 [==============================] - 4s 378us/step - loss: 0.0900 - accuracy: 0.1112\n",
      "Epoch 8/20\n",
      "10000/10000 [==============================] - 4s 386us/step - loss: 0.0900 - accuracy: 0.1137\n",
      "Epoch 9/20\n",
      "10000/10000 [==============================] - 4s 391us/step - loss: 0.0900 - accuracy: 0.1120\n",
      "Epoch 10/20\n",
      "10000/10000 [==============================] - 4s 383us/step - loss: 0.0900 - accuracy: 0.1112\n",
      "Epoch 11/20\n",
      "10000/10000 [==============================] - 4s 375us/step - loss: 0.0900 - accuracy: 0.1102\n",
      "Epoch 12/20\n",
      "10000/10000 [==============================] - 4s 379us/step - loss: 0.0900 - accuracy: 0.1102\n",
      "Epoch 13/20\n",
      "10000/10000 [==============================] - 4s 394us/step - loss: 0.0900 - accuracy: 0.1122\n",
      "Epoch 14/20\n",
      "10000/10000 [==============================] - 4s 397us/step - loss: 0.0900 - accuracy: 0.1097\n",
      "Epoch 15/20\n",
      "10000/10000 [==============================] - 4s 379us/step - loss: 0.0900 - accuracy: 0.1109\n",
      "Epoch 16/20\n",
      "10000/10000 [==============================] - 4s 381us/step - loss: 0.0900 - accuracy: 0.1112\n",
      "Epoch 17/20\n",
      "10000/10000 [==============================] - 4s 376us/step - loss: 0.0900 - accuracy: 0.1106\n",
      "Epoch 18/20\n",
      "10000/10000 [==============================] - 4s 376us/step - loss: 0.0900 - accuracy: 0.1061\n",
      "Epoch 19/20\n",
      "10000/10000 [==============================] - 4s 377us/step - loss: 0.0900 - accuracy: 0.1113\n",
      "Epoch 20/20\n",
      "10000/10000 [==============================] - 4s 417us/step - loss: 0.0900 - accuracy: 0.1099\n",
      "10000/10000 [==============================] - 1s 144us/step\n",
      "\n",
      "Train Acc 0.11270000040531158\n"
     ]
    }
   ],
   "source": [
    "# 如果結果不佳，應先確認training set訓練出來的資料是否有正確訓練機器(如果連training都失敗遑論testing了)\n",
    "\n",
    "\n",
    "model = Sequential()\n",
    "model.add(Dense(input_dim = 28*28, units = 650, activation='sigmoid'))\n",
    "for i in range(10):\n",
    "    model.add(Dense(units = 650, activation='sigmoid'))\n",
    "model.add(Dense(units = 10, activation='softmax'))\n",
    "model.compile(loss='mse', optimizer=SGD(lr=0.1),metrics=['accuracy'])\n",
    "model.fit(x_train,y_train,batch_size = 100,epochs = 20)\n",
    "\n",
    "#check training score\n",
    "result = model.evaluate(x_train, y_train)\n",
    "\n",
    "print('\\nTrain Acc',result[1])"
   ]
  },
  {
   "cell_type": "code",
   "execution_count": 28,
   "metadata": {},
   "outputs": [
    {
     "name": "stdout",
     "output_type": "stream",
     "text": [
      "Epoch 1/20\n",
      "10000/10000 [==============================] - 4s 382us/step - loss: 2.1362 - accuracy: 0.2928\n",
      "Epoch 2/20\n",
      "10000/10000 [==============================] - 4s 379us/step - loss: 1.1943 - accuracy: 0.5666\n",
      "Epoch 3/20\n",
      "10000/10000 [==============================] - 4s 378us/step - loss: 0.6098 - accuracy: 0.8038\n",
      "Epoch 4/20\n",
      "10000/10000 [==============================] - 4s 379us/step - loss: 0.3308 - accuracy: 0.9025\n",
      "Epoch 5/20\n",
      "10000/10000 [==============================] - 4s 382us/step - loss: 0.2273 - accuracy: 0.9342\n",
      "Epoch 6/20\n",
      "10000/10000 [==============================] - 4s 379us/step - loss: 0.1548 - accuracy: 0.9542\n",
      "Epoch 7/20\n",
      "10000/10000 [==============================] - 4s 385us/step - loss: 0.0967 - accuracy: 0.9722\n",
      "Epoch 8/20\n",
      "10000/10000 [==============================] - 4s 379us/step - loss: 0.1570 - accuracy: 0.9563\n",
      "Epoch 9/20\n",
      "10000/10000 [==============================] - 4s 379us/step - loss: 0.0539 - accuracy: 0.9859\n",
      "Epoch 10/20\n",
      "10000/10000 [==============================] - 4s 404us/step - loss: 0.0380 - accuracy: 0.9901\n",
      "Epoch 11/20\n",
      "10000/10000 [==============================] - 4s 394us/step - loss: 0.0240 - accuracy: 0.9940\n",
      "Epoch 12/20\n",
      "10000/10000 [==============================] - 4s 391us/step - loss: 0.0224 - accuracy: 0.9930\n",
      "Epoch 13/20\n",
      "10000/10000 [==============================] - 4s 389us/step - loss: 0.4324 - accuracy: 0.8847\n",
      "Epoch 14/20\n",
      "10000/10000 [==============================] - 4s 405us/step - loss: 0.2660 - accuracy: 0.9266\n",
      "Epoch 15/20\n",
      "10000/10000 [==============================] - 4s 416us/step - loss: 0.1152 - accuracy: 0.9707\n",
      "Epoch 16/20\n",
      "10000/10000 [==============================] - 4s 423us/step - loss: 0.0316 - accuracy: 0.9921\n",
      "Epoch 17/20\n",
      "10000/10000 [==============================] - 4s 424us/step - loss: 0.9972 - accuracy: 0.7148\n",
      "Epoch 18/20\n",
      "10000/10000 [==============================] - 4s 422us/step - loss: 1.1726 - accuracy: 0.6002\n",
      "Epoch 19/20\n",
      "10000/10000 [==============================] - 4s 413us/step - loss: 0.3779 - accuracy: 0.9060\n",
      "Epoch 20/20\n",
      "10000/10000 [==============================] - 4s 415us/step - loss: 0.5198 - accuracy: 0.8534\n",
      "10000/10000 [==============================] - 0s 41us/step\n",
      "\n",
      "Train Acc 0.96670001745224\n",
      "10000/10000 [==============================] - 0s 39us/step\n",
      "\n",
      "Test Acc 0.9302999973297119\n"
     ]
    }
   ],
   "source": [
    "#確認training時就爆炸，所以調整作法\n",
    "\n",
    "model = Sequential()\n",
    "model.add(Dense(input_dim = 28*28, units = 650, activation='relu'))\n",
    "\n",
    "#layers增加的時候會有gradient vanishing的問題\n",
    "#更動 activation function時，會對ML的學習曲線造成影響，因為學習的曲線跟震盪會變更\n",
    "for i in range(10):\n",
    "    model.add(Dense(units = 650, activation='relu'))\n",
    "model.add(Dense(units = 10, activation='softmax'))\n",
    "\n",
    "#loss function中mean square error其實並不適合用於classification的ML模型，所以調整成crossentropy\n",
    "model.compile(loss='categorical_crossentropy', optimizer=SGD(lr=0.1), metrics=['accuracy'])\n",
    "\n",
    "#batch size會影響結果，因為藉由將樣本分批處理，讓極值影響降低\n",
    "model.fit(x_train,y_train,batch_size = 100,epochs = 20)\n",
    "\n",
    "result = model.evaluate(x_train, y_train,batch_size=10000)\n",
    "print('\\nTrain Acc',result[1])\n",
    "\n",
    "result = model.evaluate(x_test, y_test,batch_size=10000)\n",
    "print('\\nTest Acc',result[1])"
   ]
  },
  {
   "cell_type": "code",
   "execution_count": 29,
   "metadata": {},
   "outputs": [
    {
     "name": "stdout",
     "output_type": "stream",
     "text": [
      "Epoch 1/20\n",
      "10000/10000 [==============================] - 3s 275us/step - loss: 0.4416 - accuracy: 0.8633\n",
      "Epoch 2/20\n",
      "10000/10000 [==============================] - 3s 275us/step - loss: 0.1554 - accuracy: 0.9534\n",
      "Epoch 3/20\n",
      "10000/10000 [==============================] - 3s 275us/step - loss: 0.0902 - accuracy: 0.9727\n",
      "Epoch 4/20\n",
      "10000/10000 [==============================] - 3s 278us/step - loss: 0.0574 - accuracy: 0.9811\n",
      "Epoch 5/20\n",
      "10000/10000 [==============================] - 3s 280us/step - loss: 0.0485 - accuracy: 0.9849\n",
      "Epoch 6/20\n",
      "10000/10000 [==============================] - 3s 275us/step - loss: 0.0398 - accuracy: 0.9872\n",
      "Epoch 7/20\n",
      "10000/10000 [==============================] - 3s 278us/step - loss: 0.0421 - accuracy: 0.9858\n",
      "Epoch 8/20\n",
      "10000/10000 [==============================] - 3s 278us/step - loss: 0.0349 - accuracy: 0.9886\n",
      "Epoch 9/20\n",
      "10000/10000 [==============================] - 3s 279us/step - loss: 0.0336 - accuracy: 0.9901\n",
      "Epoch 10/20\n",
      "10000/10000 [==============================] - 3s 282us/step - loss: 0.0207 - accuracy: 0.9934\n",
      "Epoch 11/20\n",
      "10000/10000 [==============================] - 3s 267us/step - loss: 0.0339 - accuracy: 0.9905\n",
      "Epoch 12/20\n",
      "10000/10000 [==============================] - 3s 287us/step - loss: 0.0182 - accuracy: 0.9940\n",
      "Epoch 13/20\n",
      "10000/10000 [==============================] - 3s 270us/step - loss: 0.0221 - accuracy: 0.9937\n",
      "Epoch 14/20\n",
      "10000/10000 [==============================] - 3s 283us/step - loss: 0.0088 - accuracy: 0.9972\n",
      "Epoch 15/20\n",
      "10000/10000 [==============================] - 3s 275us/step - loss: 0.0210 - accuracy: 0.9936\n",
      "Epoch 16/20\n",
      "10000/10000 [==============================] - 3s 284us/step - loss: 0.0460 - accuracy: 0.9869\n",
      "Epoch 17/20\n",
      "10000/10000 [==============================] - 3s 276us/step - loss: 0.0149 - accuracy: 0.9954\n",
      "Epoch 18/20\n",
      "10000/10000 [==============================] - 3s 275us/step - loss: 0.0163 - accuracy: 0.9954\n",
      "Epoch 19/20\n",
      "10000/10000 [==============================] - 3s 274us/step - loss: 0.0201 - accuracy: 0.99450s - loss: 0.0216 - accura\n",
      "Epoch 20/20\n",
      "10000/10000 [==============================] - 3s 266us/step - loss: 0.0047 - accuracy: 0.9986\n",
      "10000/10000 [==============================] - 0s 16us/step\n",
      "\n",
      "Train Acc 0.9980000257492065\n",
      "10000/10000 [==============================] - 0s 14us/step\n",
      "\n",
      "Test Acc 0.9567000269889832\n"
     ]
    }
   ],
   "source": [
    "model = Sequential()\n",
    "model.add(Dense(input_dim = 28*28, units = 650, activation='relu'))\n",
    "model.add(Dense(units = 650, activation='relu'))\n",
    "model.add(Dense(units = 650, activation='relu'))\n",
    "model.add(Dense(units = 650, activation='relu'))\n",
    "model.add(Dense(units = 10, activation='softmax'))\n",
    "\n",
    "#更換optimizer\n",
    "model.compile(loss='categorical_crossentropy', optimizer='adam', metrics=['accuracy'])\n",
    "\n",
    "model.fit(x_train,y_train,batch_size = 100,epochs = 20)\n",
    "\n",
    "result = model.evaluate(x_train, y_train,batch_size=10000)\n",
    "print('\\nTrain Acc',result[1])\n",
    "\n",
    "result = model.evaluate(x_test, y_test,batch_size=10000)\n",
    "print('\\nTest Acc',result[1])"
   ]
  },
  {
   "cell_type": "code",
   "execution_count": null,
   "metadata": {},
   "outputs": [],
   "source": []
  },
  {
   "cell_type": "code",
   "execution_count": null,
   "metadata": {},
   "outputs": [],
   "source": []
  },
  {
   "cell_type": "code",
   "execution_count": null,
   "metadata": {},
   "outputs": [],
   "source": []
  }
 ],
 "metadata": {
  "kernelspec": {
   "display_name": "Python 3",
   "language": "python",
   "name": "python3"
  },
  "language_info": {
   "codemirror_mode": {
    "name": "ipython",
    "version": 3
   },
   "file_extension": ".py",
   "mimetype": "text/x-python",
   "name": "python",
   "nbconvert_exporter": "python",
   "pygments_lexer": "ipython3",
   "version": "3.7.7"
  }
 },
 "nbformat": 4,
 "nbformat_minor": 4
}
