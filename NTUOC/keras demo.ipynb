{
 "cells": [
  {
   "cell_type": "code",
   "execution_count": 1,
   "metadata": {},
   "outputs": [
    {
     "ename": "ModuleNotFoundError",
     "evalue": "No module named 'keras'",
     "output_type": "error",
     "traceback": [
      "\u001b[1;31m---------------------------------------------------------------------------\u001b[0m",
      "\u001b[1;31mModuleNotFoundError\u001b[0m                       Traceback (most recent call last)",
      "\u001b[1;32m<ipython-input-1-74f02361a193>\u001b[0m in \u001b[0;36m<module>\u001b[1;34m\u001b[0m\n\u001b[0;32m      1\u001b[0m \u001b[1;32mimport\u001b[0m \u001b[0mnumpy\u001b[0m \u001b[1;32mas\u001b[0m \u001b[0mnp\u001b[0m\u001b[1;33m\u001b[0m\u001b[1;33m\u001b[0m\u001b[0m\n\u001b[1;32m----> 2\u001b[1;33m \u001b[1;32mfrom\u001b[0m \u001b[0mkeras\u001b[0m\u001b[1;33m.\u001b[0m\u001b[0mmodels\u001b[0m \u001b[1;32mimport\u001b[0m \u001b[0mSequential\u001b[0m\u001b[1;33m\u001b[0m\u001b[1;33m\u001b[0m\u001b[0m\n\u001b[0m",
      "\u001b[1;31mModuleNotFoundError\u001b[0m: No module named 'keras'"
     ]
    }
   ],
   "source": [
    "import numpy as np\n",
    "from keras.models import Sequential\n",
    "from keras.layers.core import Dense, Dropout, Activation\n",
    "from keras.layers import Conv2D, MaxPooling2D, Flatten\n",
    "from keras.optimizers import SGD, Adam\n",
    "from keras.utils import np_utils\n",
    "from keras.datasets import mnist"
   ]
  },
  {
   "cell_type": "code",
   "execution_count": null,
   "metadata": {},
   "outputs": [],
   "source": [
    "def load_data():\n",
    "    \n",
    "    (x_train, y_train),(x_test, y_test) = mnist.load_data()\n",
    "    \n",
    "    number = 10000\n",
    "    x_train = x_train[0:number]\n",
    "    y_train = y_train[0:number]\n",
    "    x_train = x_train.reshape(number, 28*28)\n",
    "    x_test = x_test.reshape(x_test.shape[0], 28*28)\n",
    "    x_train = x_train.astype('float32')\n",
    "    x_test = x_test.astype('float32')\n",
    "    \n",
    "    #convert class vectors to binary class matrices\n",
    "    \n",
    "    y_train = np_utils.to_categorical(y_train, 10)\n",
    "    y_test = np_utils.to_categorical(y_test, 10)\n",
    "    x_train = x_train\n",
    "    x_test = x_test\n",
    "    \n",
    "    #x_test = np.random.normal(x_test) \n",
    "    #<--Testing Data加上noise影響結果，有noise影響的話需要dropout用於簡化過程，另外overfitting也需要\n",
    "    \n",
    "    #圖形像素正規化(將向素化為256bit)\n",
    "    x_train = x_train / 255\n",
    "    x_test = x_test / 255\n",
    "    \n",
    "    return(x_train, y_train),(x_test, y_test)"
   ]
  },
  {
   "cell_type": "code",
   "execution_count": null,
   "metadata": {},
   "outputs": [],
   "source": [
    "(x_train, y_train),(x_test, y_test) = load_data()"
   ]
  },
  {
   "cell_type": "code",
   "execution_count": null,
   "metadata": {},
   "outputs": [],
   "source": [
    "x_train.shape"
   ]
  },
  {
   "cell_type": "code",
   "execution_count": null,
   "metadata": {},
   "outputs": [],
   "source": [
    "y_train.shape"
   ]
  },
  {
   "cell_type": "code",
   "execution_count": null,
   "metadata": {},
   "outputs": [],
   "source": [
    "#Start ML model Emulator \n",
    "model = Sequential()\n",
    "\n",
    "#Setting Gradient Descent and Neural Network\n",
    "#first setting input dimension\n",
    "model.add(Dense(input_dim = 28*28, units = 650, activation='sigmoid'))\n",
    "\n",
    "#Setting Neural Network layers\n",
    "#use loop to add 10 layers\n",
    "for i in range(10):\n",
    "    model.add(Dense(units = 650, activation='sigmoid'))\n",
    "\n",
    "#Setting Output dimension\n",
    "model.add(Dense(units = 10, activation='softmax'))\n",
    "\n",
    "#setting compiler (loss function , optimizers ...)\n",
    "model.compile(loss='mse', optimizer=SGD(lr=0.1),metrics=['accuracy'])\n",
    "\n",
    "#training\n",
    "model.fit(x_train,y_train,batch_size = 100,epochs = 20)\n",
    "\n",
    "#testing\n",
    "result = model.evaluate(x_test, y_test)\n",
    "print('\\nTest Acc',result[1])"
   ]
  },
  {
   "cell_type": "code",
   "execution_count": null,
   "metadata": {},
   "outputs": [],
   "source": [
    "# 如果結果不佳，應先確認training set訓練出來的資料是否有正確訓練機器(如果連training都失敗遑論testing了)\n",
    "\n",
    "\n",
    "model = Sequential()\n",
    "model.add(Dense(input_dim = 28*28, units = 650, activation='sigmoid'))\n",
    "for i in range(10):\n",
    "    model.add(Dense(units = 650, activation='sigmoid'))\n",
    "model.add(Dense(units = 10, activation='softmax'))\n",
    "model.compile(loss='mse', optimizer=SGD(lr=0.1),metrics=['accuracy'])\n",
    "model.fit(x_train,y_train,batch_size = 100,epochs = 20)\n",
    "\n",
    "#check training score\n",
    "result = model.evaluate(x_train, y_train)\n",
    "\n",
    "print('\\nTrain Acc',result[1])"
   ]
  },
  {
   "cell_type": "code",
   "execution_count": null,
   "metadata": {},
   "outputs": [],
   "source": [
    "#確認training時就爆炸，所以調整作法\n",
    "\n",
    "model = Sequential()\n",
    "model.add(Dense(input_dim = 28*28, units = 650, activation='relu'))\n",
    "\n",
    "#layers增加的時候會有gradient vanishing的問題\n",
    "#更動 activation function時，會對ML的學習曲線造成影響，因為學習的曲線跟震盪會變更\n",
    "for i in range(10):\n",
    "    model.add(Dense(units = 650, activation='relu'))\n",
    "model.add(Dense(units = 10, activation='softmax'))\n",
    "\n",
    "#loss function中mean square error其實並不適合用於classification的ML模型，所以調整成crossentropy\n",
    "model.compile(loss='categorical_crossentropy', optimizer=SGD(lr=0.1), metrics=['accuracy'])\n",
    "\n",
    "#batch size會影響結果，因為藉由將樣本分批處理，讓極值影響降低\n",
    "model.fit(x_train,y_train,batch_size = 100,epochs = 20)\n",
    "\n",
    "result = model.evaluate(x_train, y_train,batch_size=10000)\n",
    "print('\\nTrain Acc',result[1])\n",
    "\n",
    "result = model.evaluate(x_test, y_test,batch_size=10000)\n",
    "print('\\nTest Acc',result[1])"
   ]
  },
  {
   "cell_type": "code",
   "execution_count": null,
   "metadata": {},
   "outputs": [],
   "source": [
    "model = Sequential()\n",
    "model.add(Dense(input_dim = 28*28, units = 650, activation='relu'))\n",
    "model.add(Dense(units = 650, activation='relu'))\n",
    "model.add(Dense(units = 650, activation='relu'))\n",
    "model.add(Dense(units = 650, activation='relu'))\n",
    "model.add(Dense(units = 10, activation='softmax'))\n",
    "\n",
    "#更換optimizer\n",
    "model.compile(loss='categorical_crossentropy', optimizer='adam', metrics=['accuracy'])\n",
    "\n",
    "model.fit(x_train,y_train,batch_size = 100,epochs = 20)\n",
    "\n",
    "result = model.evaluate(x_train, y_train,batch_size=10000)\n",
    "print('\\nTrain Acc',result[1])\n",
    "\n",
    "result = model.evaluate(x_test, y_test,batch_size=10000)\n",
    "print('\\nTest Acc',result[1])"
   ]
  },
  {
   "cell_type": "code",
   "execution_count": null,
   "metadata": {},
   "outputs": [],
   "source": []
  },
  {
   "cell_type": "code",
   "execution_count": null,
   "metadata": {},
   "outputs": [],
   "source": []
  },
  {
   "cell_type": "code",
   "execution_count": null,
   "metadata": {},
   "outputs": [],
   "source": []
  }
 ],
 "metadata": {
  "kernelspec": {
   "display_name": "Python 3",
   "language": "python",
   "name": "python3"
  },
  "language_info": {
   "codemirror_mode": {
    "name": "ipython",
    "version": 3
   },
   "file_extension": ".py",
   "mimetype": "text/x-python",
   "name": "python",
   "nbconvert_exporter": "python",
   "pygments_lexer": "ipython3",
   "version": "3.7.7"
  }
 },
 "nbformat": 4,
 "nbformat_minor": 4
}
